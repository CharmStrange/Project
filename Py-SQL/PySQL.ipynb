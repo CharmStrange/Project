{
  "nbformat": 4,
  "nbformat_minor": 0,
  "metadata": {
    "colab": {
      "provenance": []
    },
    "kernelspec": {
      "name": "python3",
      "display_name": "Python 3"
    },
    "language_info": {
      "name": "python"
    }
  },
  "cells": [
    {
      "cell_type": "markdown",
      "source": [
        "# Python DB 기본"
      ],
      "metadata": {
        "id": "dddOuIVUGQXc"
      }
    },
    {
      "cell_type": "code",
      "execution_count": null,
      "metadata": {
        "colab": {
          "base_uri": "https://localhost:8080/"
        },
        "id": "b3bkbg-mLbqd",
        "outputId": "b7f673d1-c71f-4d83-f3cc-c377e3d9994b"
      },
      "outputs": [
        {
          "output_type": "stream",
          "name": "stdout",
          "text": [
            "ID: 1\n",
            "Title: Book 1\n",
            "Author: Author 1\n",
            "\n",
            "ID: 2\n",
            "Title: Book 2\n",
            "Author: Author 2\n",
            "\n"
          ]
        }
      ],
      "source": [
        "import sqlite3\n",
        "\n",
        "# SQLite 데이터베이스 연결\n",
        "conn = sqlite3.connect('mydatabase.db')\n",
        "\n",
        "# 커서 생성\n",
        "cursor = conn.cursor()\n",
        "\n",
        "# 테이블 생성\n",
        "cursor.execute('''CREATE TABLE IF NOT EXISTS books\n",
        "                  (id INTEGER PRIMARY KEY AUTOINCREMENT,\n",
        "                   title TEXT,\n",
        "                   author TEXT)''')\n",
        "\n",
        "# 데이터 입력\n",
        "cursor.execute(\"INSERT INTO books (title, author) VALUES (?, ?)\", (\"Book 1\", \"Author 1\"))\n",
        "cursor.execute(\"INSERT INTO books (title, author) VALUES (?, ?)\", (\"Book 2\", \"Author 2\"))\n",
        "\n",
        "# 커밋\n",
        "conn.commit()\n",
        "\n",
        "# 데이터 조회\n",
        "cursor.execute(\"SELECT * FROM books\")\n",
        "rows = cursor.fetchall()\n",
        "\n",
        "# 조회 결과 출력\n",
        "for row in rows:\n",
        "    print(\"ID:\", row[0])\n",
        "    print(\"Title:\", row[1])\n",
        "    print(\"Author:\", row[2])\n",
        "    print()\n",
        "\n",
        "# 연결 종료\n",
        "conn.close()"
      ]
    },
    {
      "cell_type": "markdown",
      "source": [
        "# SQLite DB 자동화 프로그램"
      ],
      "metadata": {
        "id": "yDC4SbWWGWps"
      }
    },
    {
      "cell_type": "code",
      "source": [
        "import sqlite3\n",
        "from google.colab import files\n",
        "\n",
        "#############################################\n",
        "# SQLite 데이터베이스 연결 및 파일 생성\n",
        "conn = sqlite3.connect('temporary_db.db')\n",
        "conn.close()\n",
        "\n",
        "# 생성된 데이터베이스 파일을 로컬로 다운로드\n",
        "files.download('temporary_db.db')\n",
        "#############################################\n",
        "\n",
        "class DatabaseManager:\n",
        "    def __init__(self, db_path):\n",
        "        self.db_path = db_path\n",
        "        self.conn = None\n",
        "        self.cursor = None\n",
        "\n",
        "    def connect(self):\n",
        "        self.conn = sqlite3.connect(self.db_path)\n",
        "        self.cursor = self.conn.cursor()\n",
        "\n",
        "    def disconnect(self):\n",
        "        if self.conn:\n",
        "            self.conn.close()\n",
        "\n",
        "    def create_table(self, table_name, columns):\n",
        "        columns_str = ', '.join(columns)\n",
        "        create_table_query = f\"CREATE TABLE IF NOT EXISTS {table_name} ({columns_str})\"\n",
        "        self.cursor.execute(create_table_query)\n",
        "        self.conn.commit()\n",
        "\n",
        "    def insert_data(self, table_name, data):\n",
        "        placeholders = ', '.join(['?' for _ in range(len(data))])\n",
        "        insert_data_query = f\"INSERT INTO {table_name} VALUES ({placeholders})\"\n",
        "        self.cursor.execute(insert_data_query, data)\n",
        "        self.conn.commit()\n",
        "\n",
        "    def execute_query(self, query):\n",
        "        self.cursor.execute(query)\n",
        "        self.conn.commit()\n",
        "        return self.cursor.fetchall()\n",
        "\n",
        "# 사용 예시\n",
        "db_path = '/content/temporary_db.db'\n",
        "db_manager = DatabaseManager(db_path)\n",
        "db_manager.connect()\n",
        "\n",
        "# 테이블 생성\n",
        "table_name = 'users'\n",
        "columns = ['id INTEGER PRIMARY KEY', 'name TEXT', 'age INTEGER']\n",
        "db_manager.create_table(table_name, columns)\n",
        "\n",
        "# 데이터 삽입\n",
        "data = (1, 'John Doe', 25)\n",
        "db_manager.insert_data(table_name, data)\n",
        "\n",
        "# 데이터 검색\n",
        "query = \"SELECT * FROM users\"\n",
        "result = db_manager.execute_query(query)\n",
        "for row in result:\n",
        "    print(row)\n",
        "\n",
        "db_manager.disconnect()\n"
      ],
      "metadata": {
        "colab": {
          "base_uri": "https://localhost:8080/",
          "height": 36
        },
        "id": "VQKUuWBHGevN",
        "outputId": "cd3cd97b-943d-4e49-806b-a42b487bc0de"
      },
      "execution_count": null,
      "outputs": [
        {
          "output_type": "display_data",
          "data": {
            "text/plain": [
              "<IPython.core.display.Javascript object>"
            ],
            "application/javascript": [
              "\n",
              "    async function download(id, filename, size) {\n",
              "      if (!google.colab.kernel.accessAllowed) {\n",
              "        return;\n",
              "      }\n",
              "      const div = document.createElement('div');\n",
              "      const label = document.createElement('label');\n",
              "      label.textContent = `Downloading \"${filename}\": `;\n",
              "      div.appendChild(label);\n",
              "      const progress = document.createElement('progress');\n",
              "      progress.max = size;\n",
              "      div.appendChild(progress);\n",
              "      document.body.appendChild(div);\n",
              "\n",
              "      const buffers = [];\n",
              "      let downloaded = 0;\n",
              "\n",
              "      const channel = await google.colab.kernel.comms.open(id);\n",
              "      // Send a message to notify the kernel that we're ready.\n",
              "      channel.send({})\n",
              "\n",
              "      for await (const message of channel.messages) {\n",
              "        // Send a message to notify the kernel that we're ready.\n",
              "        channel.send({})\n",
              "        if (message.buffers) {\n",
              "          for (const buffer of message.buffers) {\n",
              "            buffers.push(buffer);\n",
              "            downloaded += buffer.byteLength;\n",
              "            progress.value = downloaded;\n",
              "          }\n",
              "        }\n",
              "      }\n",
              "      const blob = new Blob(buffers, {type: 'application/binary'});\n",
              "      const a = document.createElement('a');\n",
              "      a.href = window.URL.createObjectURL(blob);\n",
              "      a.download = filename;\n",
              "      div.appendChild(a);\n",
              "      a.click();\n",
              "      div.remove();\n",
              "    }\n",
              "  "
            ]
          },
          "metadata": {}
        },
        {
          "output_type": "display_data",
          "data": {
            "text/plain": [
              "<IPython.core.display.Javascript object>"
            ],
            "application/javascript": [
              "download(\"download_54b43353-789e-44e8-ba72-29bfcdfc66d8\", \"temporary_db.db\", 0)"
            ]
          },
          "metadata": {}
        },
        {
          "output_type": "stream",
          "name": "stdout",
          "text": [
            "(1, 'John Doe', 25)\n"
          ]
        }
      ]
    },
    {
      "cell_type": "code",
      "source": [
        "import sqlite3\n",
        "from google.colab import files\n",
        "\n",
        "class DatabaseManager:\n",
        "    def __init__(self, db_path):\n",
        "        self.db_path = db_path\n",
        "        self.conn = None\n",
        "        self.cursor = None\n",
        "\n",
        "    def connect(self):\n",
        "        self.conn = sqlite3.connect(self.db_path)\n",
        "        self.cursor = self.conn.cursor()\n",
        "\n",
        "    def disconnect(self):\n",
        "        if self.conn:\n",
        "            self.conn.close()\n",
        "\n",
        "    def create_table(self, table_name, columns):\n",
        "        columns_str = ', '.join(columns)\n",
        "        create_table_query = f\"CREATE TABLE IF NOT EXISTS {table_name} ({columns_str})\"\n",
        "        self.cursor.execute(create_table_query)\n",
        "        self.conn.commit()\n",
        "\n",
        "    def insert_data(self, table_name, data):\n",
        "        placeholders = ', '.join(['?' for _ in range(len(data))])\n",
        "        insert_data_query = f\"INSERT INTO {table_name} VALUES ({placeholders})\"\n",
        "        self.cursor.execute(insert_data_query, data)\n",
        "        self.conn.commit()\n",
        "\n",
        "    def execute_query(self, query):\n",
        "        self.cursor.execute(query)\n",
        "        self.conn.commit()\n",
        "        return self.cursor.fetchall()\n",
        "\n",
        "# 사용자 정보 입력 및 저장\n",
        "def save_user_info(db_manager):\n",
        "    name = input(\"이름을 입력하세요: \")\n",
        "    age = int(input(\"나이를 입력하세요: \"))\n",
        "\n",
        "    # 데이터 삽입\n",
        "    data = (name, age)\n",
        "    db_manager.insert_data('users', data)\n",
        "    print(\"사용자 정보가 저장되었습니다.\")\n",
        "\n",
        "# 저장된 사용자 정보 조회\n",
        "def view_user_info(db_manager):\n",
        "    query = \"SELECT * FROM users\"\n",
        "    result = db_manager.execute_query(query)\n",
        "    print(\"저장된 사용자 정보:\")\n",
        "    for row in result:\n",
        "        print(f\"이름: {row[0]}, 나이: {row[1]}\")\n",
        "\n",
        "# 데이터베이스 관리자 생성 및 연결\n",
        "db_path = 'temporary_db.db'\n",
        "db_manager = DatabaseManager(db_path)\n",
        "db_manager.connect()\n",
        "\n",
        "# 테이블 생성\n",
        "table_name = 'users'\n",
        "columns = ['name TEXT', 'age INTEGER']\n",
        "db_manager.create_table(table_name, columns)\n",
        "\n",
        "# 사용자 정보 저장\n",
        "save_user_info(db_manager)\n",
        "\n",
        "# 저장된 사용자 정보 조회\n",
        "view_user_info(db_manager)\n",
        "\n",
        "# 데이터베이스 연결 종료\n",
        "db_manager.disconnect()\n",
        "\n",
        "# 데이터베이스 파일 다운로드\n",
        "files.download('temporary_db.db')\n"
      ],
      "metadata": {
        "colab": {
          "base_uri": "https://localhost:8080/",
          "height": 109
        },
        "id": "FZdiy715-CfD",
        "outputId": "c9d6c706-fd3c-4577-b60e-31cd03a54c16"
      },
      "execution_count": null,
      "outputs": [
        {
          "output_type": "stream",
          "name": "stdout",
          "text": [
            "이름을 입력하세요: 공장장\n",
            "나이를 입력하세요: 14\n",
            "사용자 정보가 저장되었습니다.\n",
            "저장된 사용자 정보:\n",
            "이름: 공장장, 나이: 14\n"
          ]
        },
        {
          "output_type": "display_data",
          "data": {
            "text/plain": [
              "<IPython.core.display.Javascript object>"
            ],
            "application/javascript": [
              "\n",
              "    async function download(id, filename, size) {\n",
              "      if (!google.colab.kernel.accessAllowed) {\n",
              "        return;\n",
              "      }\n",
              "      const div = document.createElement('div');\n",
              "      const label = document.createElement('label');\n",
              "      label.textContent = `Downloading \"${filename}\": `;\n",
              "      div.appendChild(label);\n",
              "      const progress = document.createElement('progress');\n",
              "      progress.max = size;\n",
              "      div.appendChild(progress);\n",
              "      document.body.appendChild(div);\n",
              "\n",
              "      const buffers = [];\n",
              "      let downloaded = 0;\n",
              "\n",
              "      const channel = await google.colab.kernel.comms.open(id);\n",
              "      // Send a message to notify the kernel that we're ready.\n",
              "      channel.send({})\n",
              "\n",
              "      for await (const message of channel.messages) {\n",
              "        // Send a message to notify the kernel that we're ready.\n",
              "        channel.send({})\n",
              "        if (message.buffers) {\n",
              "          for (const buffer of message.buffers) {\n",
              "            buffers.push(buffer);\n",
              "            downloaded += buffer.byteLength;\n",
              "            progress.value = downloaded;\n",
              "          }\n",
              "        }\n",
              "      }\n",
              "      const blob = new Blob(buffers, {type: 'application/binary'});\n",
              "      const a = document.createElement('a');\n",
              "      a.href = window.URL.createObjectURL(blob);\n",
              "      a.download = filename;\n",
              "      div.appendChild(a);\n",
              "      a.click();\n",
              "      div.remove();\n",
              "    }\n",
              "  "
            ]
          },
          "metadata": {}
        },
        {
          "output_type": "display_data",
          "data": {
            "text/plain": [
              "<IPython.core.display.Javascript object>"
            ],
            "application/javascript": [
              "download(\"download_5c67dc8f-1206-4356-a35f-489a50524b22\", \"temporary_db.db\", 8192)"
            ]
          },
          "metadata": {}
        }
      ]
    },
    {
      "cell_type": "code",
      "source": [
        "import sqlite3\n",
        "from google.colab import files\n",
        "\n",
        "class DatabaseManager:\n",
        "    def __init__(self, db_path):\n",
        "        self.db_path = db_path\n",
        "        self.conn = None\n",
        "        self.cursor = None\n",
        "\n",
        "    def connect(self):\n",
        "        self.conn = sqlite3.connect(self.db_path)\n",
        "        self.cursor = self.conn.cursor()\n",
        "\n",
        "    def disconnect(self):\n",
        "        if self.conn:\n",
        "            self.conn.close()\n",
        "\n",
        "    def create_table(self, table_name, columns):\n",
        "        columns_str = ', '.join(columns)\n",
        "        create_table_query = f\"CREATE TABLE IF NOT EXISTS {table_name} ({columns_str})\"\n",
        "        self.cursor.execute(create_table_query)\n",
        "        self.conn.commit()\n",
        "\n",
        "    def insert_data(self, table_name, data):\n",
        "        placeholders = ', '.join(['?' for _ in range(len(data))])\n",
        "        insert_data_query = f\"INSERT INTO {table_name} VALUES ({placeholders})\"\n",
        "        self.cursor.execute(insert_data_query, data)\n",
        "        self.conn.commit()\n",
        "\n",
        "    def execute_query(self, query):\n",
        "        self.cursor.execute(query)\n",
        "        self.conn.commit()\n",
        "        return self.cursor.fetchall()\n",
        "\n",
        "    def download_database(self):\n",
        "        files.download(self.db_path)\n",
        "\n",
        "    def save_user_info(self):\n",
        "        name = input(\"이름을 입력하세요: \")\n",
        "        age = int(input(\"나이를 입력하세요: \"))\n",
        "\n",
        "        # 데이터 삽입\n",
        "        data = (name, age)\n",
        "        self.insert_data('users', data)\n",
        "        print(\"사용자 정보가 저장되었습니다.\")\n",
        "\n",
        "    def view_user_info(self):\n",
        "        query = \"SELECT * FROM users\"\n",
        "        result = self.execute_query(query)\n",
        "        print(\"저장된 사용자 정보:\")\n",
        "        for row in result:\n",
        "            print(f\"이름: {row[0]}, 나이: {row[1]}\")\n",
        "\n",
        "# 데이터베이스 관리자 생성 및 연결\n",
        "db_path = 'temporary_db.db'\n",
        "db_manager = DatabaseManager(db_path)\n",
        "db_manager.connect()\n",
        "\n",
        "# 테이블 생성\n",
        "table_name = 'users'\n",
        "columns = ['name TEXT', 'age INTEGER']\n",
        "db_manager.create_table(table_name, columns)\n",
        "\n",
        "# 자동화 기능\n",
        "while True:\n",
        "    print(\"\\n=== 자동화 메뉴 ===\")\n",
        "    print(\"1. 사용자 정보 저장\")\n",
        "    print(\"2. 저장된 사용자 정보 조회\")\n",
        "    print(\"3. 데이터베이스 파일 다운로드\")\n",
        "    print(\"4. 종료\")\n",
        "\n",
        "    choice = input(\"메뉴 번호를 선택하세요: \")\n",
        "\n",
        "    if choice == '1':\n",
        "        db_manager.save_user_info()\n",
        "    elif choice == '2':\n",
        "        db_manager.view_user_info()\n",
        "    elif choice == '3':\n",
        "        db_manager.download_database()\n",
        "    elif choice == '4':\n",
        "        break\n",
        "    else:\n",
        "        print(\"올바른 메뉴 번호를 선택하세요.\")\n",
        "\n",
        "# 데이터베이스 연결 종료\n",
        "db_manager.disconnect()\n"
      ],
      "metadata": {
        "colab": {
          "base_uri": "https://localhost:8080/"
        },
        "id": "gLJriuGqmJoo",
        "outputId": "68c012e5-52a2-4db3-dfb4-2e3f9cf2835f"
      },
      "execution_count": null,
      "outputs": [
        {
          "name": "stdout",
          "output_type": "stream",
          "text": [
            "\n",
            "=== 자동화 메뉴 ===\n",
            "1. 사용자 정보 저장\n",
            "2. 저장된 사용자 정보 조회\n",
            "3. 데이터베이스 파일 다운로드\n",
            "4. 종료\n",
            "메뉴 번호를 선택하세요: 2\n",
            "저장된 사용자 정보:\n",
            "\n",
            "=== 자동화 메뉴 ===\n",
            "1. 사용자 정보 저장\n",
            "2. 저장된 사용자 정보 조회\n",
            "3. 데이터베이스 파일 다운로드\n",
            "4. 종료\n",
            "메뉴 번호를 선택하세요: 4\n"
          ]
        }
      ]
    }
  ]
}
