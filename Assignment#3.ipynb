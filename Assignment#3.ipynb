{
  "cells": [
    {
      "cell_type": "code",
      "execution_count": 2,
      "metadata": {
        "colab": {
          "base_uri": "https://localhost:8080/"
        },
        "id": "_rCFCVs2JCT8",
        "outputId": "4c0aa95a-7c0b-4926-bac8-5224b1131825"
      },
      "outputs": [
        {
          "output_type": "stream",
          "name": "stderr",
          "text": [
            "WARNING:absl:`lr` is deprecated in Keras optimizer, please use `learning_rate` or use the legacy optimizer, e.g.,tf.keras.optimizers.legacy.Adam.\n"
          ]
        },
        {
          "output_type": "stream",
          "name": "stdout",
          "text": [
            "Epoch 1/10\n",
            "625/625 [==============================] - 51s 74ms/step - loss: nan - accuracy: 0.1000\n",
            "Epoch 2/10\n",
            "625/625 [==============================] - 48s 76ms/step - loss: nan - accuracy: 0.1000\n",
            "Epoch 3/10\n",
            "625/625 [==============================] - 47s 75ms/step - loss: nan - accuracy: 0.1000\n",
            "Epoch 4/10\n",
            "625/625 [==============================] - 48s 76ms/step - loss: nan - accuracy: 0.1000\n",
            "Epoch 5/10\n",
            "625/625 [==============================] - 48s 77ms/step - loss: nan - accuracy: 0.1000\n",
            "Epoch 6/10\n",
            "625/625 [==============================] - 49s 78ms/step - loss: nan - accuracy: 0.1000\n",
            "Epoch 7/10\n",
            "625/625 [==============================] - 47s 75ms/step - loss: nan - accuracy: 0.1000\n",
            "Epoch 8/10\n",
            "625/625 [==============================] - 48s 76ms/step - loss: nan - accuracy: 0.1000\n",
            "Epoch 9/10\n",
            "625/625 [==============================] - 48s 76ms/step - loss: nan - accuracy: 0.1000\n",
            "Epoch 10/10\n",
            "625/625 [==============================] - 49s 79ms/step - loss: nan - accuracy: 0.1000\n",
            "125/125 [==============================] - 9s 64ms/step - loss: nan - accuracy: 0.1000\n",
            "Test Loss: nan\n",
            "Test Accuracy: 0.10000000149011612\n"
          ]
        }
      ],
      "source": [
        "import tensorflow as tf\n",
        "from tensorflow.keras.datasets import cifar10\n",
        "from tensorflow.keras.applications.inception_v3 import InceptionV3\n",
        "from tensorflow.keras.models import Model\n",
        "from tensorflow.keras.layers import Dense, GlobalAveragePooling2D\n",
        "from tensorflow.keras.optimizers import Adam\n",
        "from tensorflow.keras.preprocessing.image import ImageDataGenerator\n",
        "\n",
        "# CIFAR-10 데이터셋 로드\n",
        "(x_train, y_train), (x_test, y_test) = cifar10.load_data()\n",
        "\n",
        "# 데이터 전처리\n",
        "x_train = x_train / 255.0\n",
        "x_test = x_test / 255.0\n",
        "y_train = tf.keras.utils.to_categorical(y_train, num_classes=10)\n",
        "y_test = tf.keras.utils.to_categorical(y_test, num_classes=10)\n",
        "\n",
        "# InceptionV3 모델 로드 (전이학습)\n",
        "base_model = InceptionV3(weights='imagenet', include_top=False, input_shape=(80, 80, 3))\n",
        "\n",
        "# 분류기 부분 추가\n",
        "x = base_model.output\n",
        "x = GlobalAveragePooling2D()(x)\n",
        "x = Dense(1024, activation='relu')(x)\n",
        "predictions = Dense(10, activation='softmax')(x)\n",
        "\n",
        "# 전체 모델 구성\n",
        "model = Model(inputs=base_model.input, outputs=predictions)\n",
        "\n",
        "# 기반 모델 동결\n",
        "for layer in base_model.layers:\n",
        "    layer.trainable = False\n",
        "\n",
        "# 모델 컴파일\n",
        "model.compile(optimizer=Adam(lr=0.001), loss='categorical_crossentropy', metrics=['accuracy'])\n",
        "\n",
        "# 데이터 증강\n",
        "datagen = ImageDataGenerator(\n",
        "    rotation_range=20,\n",
        "    width_shift_range=0.2,\n",
        "    height_shift_range=0.2,\n",
        "    horizontal_flip=True\n",
        ")\n",
        "datagen.fit(x_train)\n",
        "\n",
        "# 모델 훈련\n",
        "model.fit(datagen.flow(x_train, y_train, batch_size=80), steps_per_epoch=len(x_train) / 80, epochs=10)\n",
        "\n",
        "# 모델 평가\n",
        "loss, accuracy = model.evaluate(datagen.flow(x_test, y_test, batch_size=80), steps=len(x_test) / 80)\n",
        "print('Test Loss:', loss)\n",
        "print('Test Accuracy:', accuracy)\n",
        "\n"
      ]
    }
  ],
  "metadata": {
    "colab": {
      "provenance": []
    },
    "kernelspec": {
      "display_name": "Python 3",
      "name": "python3"
    },
    "language_info": {
      "name": "python"
    }
  },
  "nbformat": 4,
  "nbformat_minor": 0
}