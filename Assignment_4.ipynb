{
  "cells": [
    {
      "cell_type": "code",
      "execution_count": 1,
      "metadata": {
        "colab": {
          "base_uri": "https://localhost:8080/"
        },
        "id": "_rCFCVs2JCT8",
        "outputId": "7d4e7277-7bc6-4583-9e64-5bd92c78b95b"
      },
      "outputs": [
        {
          "output_type": "stream",
          "name": "stdout",
          "text": [
            "Downloading http://yann.lecun.com/exdb/mnist/train-images-idx3-ubyte.gz\n",
            "Downloading http://yann.lecun.com/exdb/mnist/train-images-idx3-ubyte.gz to ./data/MNIST/raw/train-images-idx3-ubyte.gz\n"
          ]
        },
        {
          "output_type": "stream",
          "name": "stderr",
          "text": [
            "100%|██████████| 9912422/9912422 [00:00<00:00, 99608308.84it/s]\n"
          ]
        },
        {
          "output_type": "stream",
          "name": "stdout",
          "text": [
            "Extracting ./data/MNIST/raw/train-images-idx3-ubyte.gz to ./data/MNIST/raw\n",
            "\n",
            "Downloading http://yann.lecun.com/exdb/mnist/train-labels-idx1-ubyte.gz\n",
            "Downloading http://yann.lecun.com/exdb/mnist/train-labels-idx1-ubyte.gz to ./data/MNIST/raw/train-labels-idx1-ubyte.gz\n"
          ]
        },
        {
          "output_type": "stream",
          "name": "stderr",
          "text": [
            "100%|██████████| 28881/28881 [00:00<00:00, 86402064.07it/s]\n"
          ]
        },
        {
          "output_type": "stream",
          "name": "stdout",
          "text": [
            "Extracting ./data/MNIST/raw/train-labels-idx1-ubyte.gz to ./data/MNIST/raw\n",
            "\n",
            "Downloading http://yann.lecun.com/exdb/mnist/t10k-images-idx3-ubyte.gz\n",
            "Downloading http://yann.lecun.com/exdb/mnist/t10k-images-idx3-ubyte.gz to ./data/MNIST/raw/t10k-images-idx3-ubyte.gz\n"
          ]
        },
        {
          "output_type": "stream",
          "name": "stderr",
          "text": [
            "100%|██████████| 1648877/1648877 [00:00<00:00, 26250949.49it/s]\n"
          ]
        },
        {
          "output_type": "stream",
          "name": "stdout",
          "text": [
            "Extracting ./data/MNIST/raw/t10k-images-idx3-ubyte.gz to ./data/MNIST/raw\n",
            "\n",
            "Downloading http://yann.lecun.com/exdb/mnist/t10k-labels-idx1-ubyte.gz\n",
            "Downloading http://yann.lecun.com/exdb/mnist/t10k-labels-idx1-ubyte.gz to ./data/MNIST/raw/t10k-labels-idx1-ubyte.gz\n"
          ]
        },
        {
          "output_type": "stream",
          "name": "stderr",
          "text": [
            "100%|██████████| 4542/4542 [00:00<00:00, 3524612.17it/s]\n"
          ]
        },
        {
          "output_type": "stream",
          "name": "stdout",
          "text": [
            "Extracting ./data/MNIST/raw/t10k-labels-idx1-ubyte.gz to ./data/MNIST/raw\n",
            "\n",
            "Epoch [1/5], Step [100/600], Loss: 0.8110641241073608\n",
            "Epoch [1/5], Step [200/600], Loss: 0.4865039885044098\n",
            "Epoch [1/5], Step [300/600], Loss: 0.31776779890060425\n",
            "Epoch [1/5], Step [400/600], Loss: 0.26064422726631165\n",
            "Epoch [1/5], Step [500/600], Loss: 0.19294467568397522\n",
            "Epoch [1/5], Step [600/600], Loss: 0.24102683365345\n",
            "Epoch [2/5], Step [100/600], Loss: 0.154706671833992\n",
            "Epoch [2/5], Step [200/600], Loss: 0.11622384935617447\n",
            "Epoch [2/5], Step [300/600], Loss: 0.1258777678012848\n",
            "Epoch [2/5], Step [400/600], Loss: 0.22795234620571136\n",
            "Epoch [2/5], Step [500/600], Loss: 0.1699444204568863\n",
            "Epoch [2/5], Step [600/600], Loss: 0.06256954371929169\n",
            "Epoch [3/5], Step [100/600], Loss: 0.04981023818254471\n",
            "Epoch [3/5], Step [200/600], Loss: 0.10044679045677185\n",
            "Epoch [3/5], Step [300/600], Loss: 0.08250356465578079\n",
            "Epoch [3/5], Step [400/600], Loss: 0.0997312143445015\n",
            "Epoch [3/5], Step [500/600], Loss: 0.07735713571310043\n",
            "Epoch [3/5], Step [600/600], Loss: 0.061746712774038315\n",
            "Epoch [4/5], Step [100/600], Loss: 0.07641057670116425\n",
            "Epoch [4/5], Step [200/600], Loss: 0.017416885122656822\n",
            "Epoch [4/5], Step [300/600], Loss: 0.060799576342105865\n",
            "Epoch [4/5], Step [400/600], Loss: 0.011694453656673431\n",
            "Epoch [4/5], Step [500/600], Loss: 0.06248467415571213\n",
            "Epoch [4/5], Step [600/600], Loss: 0.1323595941066742\n",
            "Epoch [5/5], Step [100/600], Loss: 0.08051081746816635\n",
            "Epoch [5/5], Step [200/600], Loss: 0.019646884873509407\n",
            "Epoch [5/5], Step [300/600], Loss: 0.020803505554795265\n",
            "Epoch [5/5], Step [400/600], Loss: 0.014873105101287365\n",
            "Epoch [5/5], Step [500/600], Loss: 0.16107353568077087\n",
            "Epoch [5/5], Step [600/600], Loss: 0.007524660788476467\n",
            "Accuracy of the model on the test images: 98.5%\n"
          ]
        }
      ],
      "source": [
        "import torch\n",
        "import torch.nn as nn\n",
        "import torchvision.transforms as transforms\n",
        "import torchvision.datasets as dataset\n",
        "from torch.autograd import Variable\n",
        "from torch.nn import Parameter\n",
        "from torch import Tensor\n",
        "import torch.nn.functional as F\n",
        "from torch.utils.data import DataLoader\n",
        "import math\n",
        "\n",
        "# 하이퍼파라미터 설정\n",
        "input_size = 28  # 입력 시퀀스의 크기 (MNIST 이미지의 가로 길이)\n",
        "hidden_size = 128  # LSTM의 히든 상태 크기\n",
        "num_layers = 2  # LSTM의 레이어 개수\n",
        "num_classes = 10  # 분류할 클래스 개수\n",
        "batch_size = 100  # 미니배치 크기\n",
        "num_epochs = 5  # 학습 에포크 수\n",
        "learning_rate = 0.001  # 학습률\n",
        "\n",
        "# MNIST 데이터셋 로드 및 전처리\n",
        "train_dataset = dataset.MNIST(root='./data', train=True, \n",
        "                             transform=transforms.ToTensor(), download=True)\n",
        "test_dataset = dataset.MNIST(root='./data', train=False, \n",
        "                             transform=transforms.ToTensor())\n",
        "\n",
        "# 데이터 로더 생성\n",
        "train_loader = DataLoader(dataset=train_dataset, \n",
        "                          batch_size=batch_size, shuffle=True)\n",
        "test_loader = DataLoader(dataset=test_dataset, \n",
        "                         batch_size=batch_size, shuffle=False)\n",
        "\n",
        "# LSTM 모델 정의\n",
        "class LSTMNet(nn.Module):\n",
        "    def __init__(self, input_size, hidden_size, num_layers, num_classes):\n",
        "        super(LSTMNet, self).__init__()\n",
        "        self.hidden_size = hidden_size\n",
        "        self.num_layers = num_layers\n",
        "        self.lstm = nn.LSTM(input_size, hidden_size, num_layers, batch_first=True)\n",
        "        self.fc = nn.Linear(hidden_size, num_classes)\n",
        "\n",
        "    def forward(self, x):\n",
        "        h0 = torch.zeros(self.num_layers, x.size(0), self.hidden_size).to(device)\n",
        "        c0 = torch.zeros(self.num_layers, x.size(0), self.hidden_size).to(device)\n",
        "\n",
        "        out, _ = self.lstm(x, (h0, c0))\n",
        "        out = self.fc(out[:, -1, :])\n",
        "        return out\n",
        "\n",
        "device = torch.device('cuda' if torch.cuda.is_available() else 'cpu')\n",
        "\n",
        "# 모델 생성\n",
        "model = LSTMNet(input_size, hidden_size, num_layers, num_classes).to(device)\n",
        "\n",
        "# 손실 함수와 최적화 알고리즘 설정\n",
        "criterion = nn.CrossEntropyLoss()\n",
        "optimizer = torch.optim.Adam(model.parameters(), lr=learning_rate)\n",
        "\n",
        "# 학습\n",
        "total_step = len(train_loader)\n",
        "for epoch in range(num_epochs):\n",
        "    for i, (images, labels) in enumerate(train_loader):\n",
        "        images = images.reshape(-1, input_size, input_size).to(device)\n",
        "        labels = labels.to(device)\n",
        "\n",
        "        # 순전파\n",
        "        outputs = model(images)\n",
        "        loss = criterion(outputs, labels)\n",
        "\n",
        "        # 역전파 및 최적화\n",
        "        optimizer.zero_grad()\n",
        "        loss.backward()\n",
        "        optimizer.step()\n",
        "\n",
        "        if (i + 1) % 100 == 0:\n",
        "            print(f'Epoch [{epoch+1}/{num_epochs}], Step [{i+1}/{total_step}], Loss: {loss.item()}')\n",
        "\n",
        "# 테스트\n",
        "model.eval()\n",
        "with torch.no_grad():\n",
        "    correct = 0\n",
        "    total = 0\n",
        "    for images, labels in test_loader:\n",
        "        images = images.reshape(-1, input_size, input_size).to(device)\n",
        "        labels = labels.to(device)\n",
        "        outputs = model(images)\n",
        "        _, predicted = torch.max(outputs.data, 1)\n",
        "        total += labels.size(0)\n",
        "        correct += (predicted == labels).sum().item()\n",
        "\n",
        "    print(f'Accuracy of the model on the test images: {(100 * correct / total)}%')\n"
      ]
    }
  ],
  "metadata": {
    "colab": {
      "provenance": []
    },
    "kernelspec": {
      "display_name": "Python 3",
      "name": "python3"
    },
    "language_info": {
      "name": "python"
    }
  },
  "nbformat": 4,
  "nbformat_minor": 0
}