{
  "cells": [
    {
      "cell_type": "markdown",
      "metadata": {
        "id": "view-in-github",
        "colab_type": "text"
      },
      "source": [
        "<a href=\"https://colab.research.google.com/github/CharmStrange/Project/blob/main/Python/Text%20Analysis/%EB%8B%B9%EA%B7%BC/%EB%8B%B9%EA%B7%BC%EB%A7%88%EC%BC%93_%ED%81%AC%EB%A1%A4%EB%9F%AC.ipynb\" target=\"_parent\"><img src=\"https://colab.research.google.com/assets/colab-badge.svg\" alt=\"Open In Colab\"/></a>"
      ]
    },
    {
      "cell_type": "code",
      "execution_count": null,
      "metadata": {
        "colab": {
          "base_uri": "https://localhost:8080/"
        },
        "id": "JlA9nTW5dRYM",
        "outputId": "fb802093-9e1d-4549-bedf-307c25aff9b2"
      },
      "outputs": [
        {
          "output_type": "stream",
          "name": "stdout",
          "text": [
            "Collecting konlpy\n",
            "  Downloading konlpy-0.6.0-py2.py3-none-any.whl.metadata (1.9 kB)\n",
            "Collecting JPype1>=0.7.0 (from konlpy)\n",
            "  Downloading JPype1-1.5.0-cp310-cp310-manylinux_2_17_x86_64.manylinux2014_x86_64.whl.metadata (4.9 kB)\n",
            "Requirement already satisfied: lxml>=4.1.0 in /usr/local/lib/python3.10/dist-packages (from konlpy) (4.9.4)\n",
            "Requirement already satisfied: numpy>=1.6 in /usr/local/lib/python3.10/dist-packages (from konlpy) (1.26.4)\n",
            "Requirement already satisfied: packaging in /usr/local/lib/python3.10/dist-packages (from JPype1>=0.7.0->konlpy) (24.1)\n",
            "Downloading konlpy-0.6.0-py2.py3-none-any.whl (19.4 MB)\n",
            "\u001b[2K   \u001b[90m━━━━━━━━━━━━━━━━━━━━━━━━━━━━━━━━━━━━━━━━\u001b[0m \u001b[32m19.4/19.4 MB\u001b[0m \u001b[31m16.8 MB/s\u001b[0m eta \u001b[36m0:00:00\u001b[0m\n",
            "\u001b[?25hDownloading JPype1-1.5.0-cp310-cp310-manylinux_2_17_x86_64.manylinux2014_x86_64.whl (488 kB)\n",
            "\u001b[2K   \u001b[90m━━━━━━━━━━━━━━━━━━━━━━━━━━━━━━━━━━━━━━━━\u001b[0m \u001b[32m488.6/488.6 kB\u001b[0m \u001b[31m14.6 MB/s\u001b[0m eta \u001b[36m0:00:00\u001b[0m\n",
            "\u001b[?25hInstalling collected packages: JPype1, konlpy\n",
            "Successfully installed JPype1-1.5.0 konlpy-0.6.0\n"
          ]
        }
      ],
      "source": [
        "%pip install konlpy"
      ]
    },
    {
      "cell_type": "code",
      "execution_count": null,
      "metadata": {
        "id": "aL4lEIzNs-8d"
      },
      "outputs": [],
      "source": [
        "import requests\n",
        "from bs4 import BeautifulSoup\n",
        "\n",
        "# 변수들을 딕셔너리에 저장\n",
        "regions = {\n",
        "    \"서울특별시\": \"https://www.daangn.com/region/%EC%84%9C%EC%9A%B8%ED%8A%B9%EB%B3%84%EC%8B%9C\",\n",
        "    \"부산광역시\": \"https://www.daangn.com/region/%EB%B6%80%EC%82%B0%EA%B4%91%EC%97%AD%EC%8B%9C\",\n",
        "    \"대구광역시\": \"https://www.daangn.com/region/%EB%8C%80%EA%B5%AC%EA%B4%91%EC%97%AD%EC%8B%9C\",\n",
        "    \"인천광역시\": \"https://www.daangn.com/region/%EC%9D%B8%EC%B2%9C%EA%B4%91%EC%97%AD%EC%8B%9C\",\n",
        "    \"광주광역시\": \"https://www.daangn.com/region/%EA%B4%91%EC%A3%BC%EA%B4%91%EC%97%AD%EC%8B%9C\",\n",
        "    \"대전광역시\": \"https://www.daangn.com/region/%EB%8C%80%EC%A0%84%EA%B4%91%EC%97%AD%EC%8B%9C\",\n",
        "    \"울산광역시\": \"https://www.daangn.com/region/%EC%9A%B8%EC%82%B0%EA%B4%91%EC%97%AD%EC%8B%9C\",\n",
        "    \"세종특별자치시\": \"https://www.daangn.com/region/%EC%84%B8%EC%A2%85%ED%8A%B9%EB%B3%84%EC%9E%90%EC%B9%98%EC%8B%9C\",\n",
        "    \"경기도\": \"https://www.daangn.com/region/%EA%B2%BD%EA%B8%B0%EB%8F%84\",\n",
        "    \"강원특별자치도\": \"https://www.daangn.com/region/%EA%B0%95%EC%9B%90%ED%8A%B9%EB%B3%84%EC%9E%90%EC%B9%98%EB%8F%84\",\n",
        "    \"충청북도\": \"https://www.daangn.com/region/%EC%B6%A9%EC%B2%AD%EB%B6%81%EB%8F%84\",\n",
        "    \"충청남도\": \"https://www.daangn.com/region/%EC%B6%A9%EC%B2%AD%EB%82%A8%EB%8F%84\",\n",
        "    \"전라북도\": \"https://www.daangn.com/region/%EC%A0%84%EB%9D%BC%EB%B6%81%EB%8F%84\",\n",
        "    \"전라남도\": \"https://www.daangn.com/region/%EC%A0%84%EB%9D%BC%EB%82%A8%EB%8F%84\",\n",
        "    \"경상북도\": \"https://www.daangn.com/region/%EA%B2%BD%EC%83%81%EB%B6%81%EB%8F%84\",\n",
        "    \"경상남도\": \"https://www.daangn.com/region/%EA%B2%BD%EC%83%81%EB%82%A8%EB%8F%84\",\n",
        "    \"제주특별자치도\": \"https://www.daangn.com/region/%EC%A0%9C%EC%A3%BC%ED%8A%B9%EB%B3%84%EC%9E%90%EC%B9%98%EB%8F%84\"\n",
        "}\n",
        "\n",
        "# 반복문을 통한 웹 크롤링 및 결과 저장\n",
        "for region, url in regions.items():\n",
        "    response = requests.get(url)\n",
        "    html_content = response.text\n",
        "    soup = BeautifulSoup(html_content, \"html.parser\")\n",
        "    card_title_elements = soup.find_all(class_=\"card-title\")\n",
        "    output_file = f\"list_{region}.txt\"\n",
        "\n",
        "    with open(output_file, \"w\", encoding=\"utf-8\") as f:\n",
        "        for element in card_title_elements:\n",
        "            title = element.get_text(strip=True)\n",
        "            #print(title)\n",
        "            f.write(title + \"\\n\")\n"
      ]
    },
    {
      "cell_type": "code",
      "execution_count": null,
      "metadata": {
        "id": "i978uu6gu6uH",
        "colab": {
          "base_uri": "https://localhost:8080/"
        },
        "outputId": "45af31ad-bbea-4026-e43b-0093253d4814"
      },
      "outputs": [
        {
          "output_type": "stream",
          "name": "stdout",
          "text": [
            "가장 많이 사용된 명사:\n",
            "\n",
            "냉장고: 54회\n",
            "아이폰: 49회\n",
            "에어컨: 47회\n",
            "자전거: 38회\n",
            "오늘: 37회\n",
            "상품권: 33회\n",
            "의자: 31회\n",
            "제습기: 30회\n",
            "선반: 28회\n",
            "샤인: 27회\n"
          ]
        }
      ],
      "source": [
        "from konlpy.tag import Okt\n",
        "from collections import Counter\n",
        "\n",
        "# 저장된 제목 파일 목록\n",
        "region_files = [f\"list_{region}.txt\" for region in regions.keys()]\n",
        "\n",
        "# 형태소 분석기 초기화\n",
        "okt = Okt()\n",
        "\n",
        "# 모든 제목에서 명사 추출\n",
        "all_nouns = []\n",
        "\n",
        "for region_file in region_files:\n",
        "    with open(region_file, \"r\", encoding=\"utf-8\") as f:\n",
        "        titles = f.readlines()\n",
        "\n",
        "    region_nouns = []\n",
        "\n",
        "    for title in titles:\n",
        "        region_nouns.extend(okt.nouns(title))\n",
        "\n",
        "    all_nouns.extend(region_nouns)\n",
        "\n",
        "# 불용어 설정\n",
        "stop_words = ['루', '롯데', '포함', '뉴', '엘지', '트립', '벽', '연석', '한화', '기아', '이동식', '창문', '터', '업', '리터', '닉스', '위', 'ekd', '정', '당', '게', '리', '요', '니', '남편', '몰래', '임자', '먼저', '사람', '판매', '여', '기', '용', '인치', '상품', '갤럭시', '삼성', '프로', '미니', '세트', '세대', '단', '정리', '정품', '사이즈', '애플', '당근', '블랙', '화이트', '일괄', '급', '급처', '제품', '나이키', '나이키', '폴로', '수납', '신세계', '선물', '울트라', '아기', '게이', '밍', '맥스', '호', '투맨', '박스', '스', '처분', '남성', '제', '여성', '가능', '전기', '경량', '리스', '본체', '다운', '어그', '풀', '무선', '인용', '가격', '겨울', '더', '인', '권', '철제', '추피', '분', '싹', '원목', '해', '장', '그냥', '걸이', '눈물', '머', '금고', '엄마', '젠틀', '몬스터', '사용', '레이', '양도']\n",
        "\n",
        "# 불용어 제외하고 명사 카운트\n",
        "filtered_nouns = [noun for noun in all_nouns if noun not in stop_words]\n",
        "top_nouns = Counter(filtered_nouns).most_common(10)\n",
        "\n",
        "# 딕셔너리 형태\n",
        "dict_top_nouns = dict(top_nouns)\n",
        "top_nouns_list = list(dict_top_nouns.keys())[:10]\n",
        "\n",
        "# 결과 출력\n",
        "print(\"가장 많이 사용된 명사:\\n\")\n",
        "for noun, count in top_nouns:\n",
        "    print(f\"{noun}: {count}회\")"
      ]
    },
    {
      "cell_type": "code",
      "execution_count": null,
      "metadata": {
        "id": "LIQi19vHErHA"
      },
      "outputs": [],
      "source": [
        "import sqlite3\n",
        "\n",
        "conn = sqlite3.connect('CarrotText.db')\n",
        "cursor = conn.cursor()\n",
        "\n",
        "# 데이터 보관\n",
        "cursor.execute('''\n",
        "    INSERT INTO Carrot (TOP1, TOP2, TOP3, TOP4, TOP5, TOP6, TOP7, TOP8, TOP9, TOP10)\n",
        "    VALUES (?, ?, ?, ?, ?, ?, ?, ?, ?, ?)\n",
        "''', top_nouns_list)\n",
        "\n",
        "conn.commit()\n",
        "conn.close()"
      ]
    }
  ],
  "metadata": {
    "colab": {
      "provenance": [],
      "authorship_tag": "ABX9TyP25tBRUDWh2H81Qig/rAie",
      "include_colab_link": true
    },
    "kernelspec": {
      "display_name": "Python 3",
      "name": "python3"
    },
    "language_info": {
      "name": "python"
    }
  },
  "nbformat": 4,
  "nbformat_minor": 0
}